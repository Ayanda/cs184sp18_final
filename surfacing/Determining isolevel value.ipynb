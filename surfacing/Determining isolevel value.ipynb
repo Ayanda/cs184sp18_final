{
 "cells": [
  {
   "cell_type": "code",
   "execution_count": 50,
   "metadata": {
    "scrolled": false
   },
   "outputs": [],
   "source": [
    "%matplotlib notebook\n",
    "\n",
    "import numpy as np\n",
    "import pandas as pd\n",
    "import matplotlib.pyplot as plt\n",
    "from mpl_toolkits.mplot3d.art3d import Poly3DCollection\n",
    "from skimage import measure"
   ]
  },
  {
   "cell_type": "code",
   "execution_count": 64,
   "metadata": {},
   "outputs": [],
   "source": [
    "for file_num in range(97,225):\n",
    "# for file_num in range(361):\n",
    "    ar = pd.read_csv(\"../mitsuba/input/csv{}.csv\".format(file_num), delimiter=\" \")\n",
    "    arr = np.concatenate([[float(ar.columns[0])], ar.values.T[0]])\n",
    "#     ar = pd.read_csv(\"../mitsuba/input/csv{}.csv\".format(file_num), delimiter=\" \")\n",
    "#     arr = np.concatenate([[float(ar.columns[0])], ar.values.T[0][1::2].astype(np.float)])\n",
    "    arr = arr.reshape((200,200,200))\n",
    "    verts, faces, normals, values = measure.marching_cubes_lewiner(arr, 700)\n",
    "\n",
    "    filepath = \"../mitsuba/input/face{}.obj\".format(file_num)\n",
    "\n",
    "    with open(filepath, 'w') as f:\n",
    "        f.write(\"# OBJ file\\n\")\n",
    "        for v, n in zip(verts,normals):\n",
    "            f.write(\"v %.4f %.4f %.4f\\n\" % tuple(v))\n",
    "    #         f.write(\"vn %.4f %.4f %.4f\\n\" % tuple(-n))\n",
    "        for face in faces:\n",
    "            f.write(\"f\")\n",
    "            for i in face:\n",
    "                f.write(\" %d//%d\" % ((i + 1), (i+1)))\n",
    "            f.write(\"\\n\")"
   ]
  },
  {
   "cell_type": "code",
   "execution_count": null,
   "metadata": {},
   "outputs": [],
   "source": []
  },
  {
   "cell_type": "code",
   "execution_count": null,
   "metadata": {},
   "outputs": [],
   "source": []
  }
 ],
 "metadata": {
  "kernelspec": {
   "display_name": "Python 3",
   "language": "python",
   "name": "python3"
  },
  "language_info": {
   "codemirror_mode": {
    "name": "ipython",
    "version": 3
   },
   "file_extension": ".py",
   "mimetype": "text/x-python",
   "name": "python",
   "nbconvert_exporter": "python",
   "pygments_lexer": "ipython3",
   "version": "3.5.3"
  }
 },
 "nbformat": 4,
 "nbformat_minor": 2
}
