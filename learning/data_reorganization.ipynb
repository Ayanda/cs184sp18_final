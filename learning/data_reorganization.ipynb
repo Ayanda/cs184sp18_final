{
 "cells": [
  {
   "cell_type": "code",
   "execution_count": 1,
   "metadata": {
    "collapsed": true
   },
   "outputs": [],
   "source": [
    "import pandas as pd\n",
    "import numpy as np"
   ]
  },
  {
   "cell_type": "code",
   "execution_count": 4,
   "metadata": {
    "collapsed": true
   },
   "outputs": [],
   "source": [
    "df = pd.read_csv('./state.csv')"
   ]
  },
  {
   "cell_type": "code",
   "execution_count": 5,
   "metadata": {
    "collapsed": false
   },
   "outputs": [
    {
     "data": {
      "text/html": [
       "<div>\n",
       "<table border=\"1\" class=\"dataframe\">\n",
       "  <thead>\n",
       "    <tr style=\"text-align: right;\">\n",
       "      <th></th>\n",
       "      <th>px</th>\n",
       "      <th>py</th>\n",
       "      <th>pz</th>\n",
       "      <th>vx</th>\n",
       "      <th>vy</th>\n",
       "      <th>vz</th>\n",
       "    </tr>\n",
       "  </thead>\n",
       "  <tbody>\n",
       "    <tr>\n",
       "      <th>0</th>\n",
       "      <td>-0.385610</td>\n",
       "      <td>-0.199999</td>\n",
       "      <td>-0.436949</td>\n",
       "      <td>0.016743</td>\n",
       "      <td>-0.001583</td>\n",
       "      <td>-0.001482</td>\n",
       "    </tr>\n",
       "    <tr>\n",
       "      <th>1</th>\n",
       "      <td>-0.385610</td>\n",
       "      <td>-0.199999</td>\n",
       "      <td>-0.436949</td>\n",
       "      <td>0.016743</td>\n",
       "      <td>-0.001583</td>\n",
       "      <td>-0.001482</td>\n",
       "    </tr>\n",
       "    <tr>\n",
       "      <th>2</th>\n",
       "      <td>-0.406119</td>\n",
       "      <td>-0.199999</td>\n",
       "      <td>-0.508544</td>\n",
       "      <td>-0.006339</td>\n",
       "      <td>-0.002872</td>\n",
       "      <td>-0.002721</td>\n",
       "    </tr>\n",
       "    <tr>\n",
       "      <th>3</th>\n",
       "      <td>-0.312846</td>\n",
       "      <td>-0.199999</td>\n",
       "      <td>-0.408374</td>\n",
       "      <td>0.010014</td>\n",
       "      <td>-0.001903</td>\n",
       "      <td>0.018453</td>\n",
       "    </tr>\n",
       "    <tr>\n",
       "      <th>4</th>\n",
       "      <td>-0.400343</td>\n",
       "      <td>-0.199999</td>\n",
       "      <td>-0.359755</td>\n",
       "      <td>0.006090</td>\n",
       "      <td>-0.001401</td>\n",
       "      <td>0.013634</td>\n",
       "    </tr>\n",
       "    <tr>\n",
       "      <th>5</th>\n",
       "      <td>-0.479735</td>\n",
       "      <td>-0.199999</td>\n",
       "      <td>-0.462989</td>\n",
       "      <td>-0.002521</td>\n",
       "      <td>-0.003152</td>\n",
       "      <td>0.005353</td>\n",
       "    </tr>\n",
       "    <tr>\n",
       "      <th>6</th>\n",
       "      <td>-0.416527</td>\n",
       "      <td>-0.103549</td>\n",
       "      <td>-0.435104</td>\n",
       "      <td>0.051659</td>\n",
       "      <td>-0.082099</td>\n",
       "      <td>0.132785</td>\n",
       "    </tr>\n",
       "    <tr>\n",
       "      <th>7</th>\n",
       "      <td>-0.477194</td>\n",
       "      <td>-0.199999</td>\n",
       "      <td>-0.387064</td>\n",
       "      <td>0.015136</td>\n",
       "      <td>-0.003651</td>\n",
       "      <td>0.010424</td>\n",
       "    </tr>\n",
       "    <tr>\n",
       "      <th>8</th>\n",
       "      <td>-0.339989</td>\n",
       "      <td>-0.199999</td>\n",
       "      <td>-0.538267</td>\n",
       "      <td>-0.005154</td>\n",
       "      <td>-0.002768</td>\n",
       "      <td>-0.001313</td>\n",
       "    </tr>\n",
       "    <tr>\n",
       "      <th>9</th>\n",
       "      <td>-0.281197</td>\n",
       "      <td>-0.199999</td>\n",
       "      <td>-0.475507</td>\n",
       "      <td>0.002919</td>\n",
       "      <td>-0.002250</td>\n",
       "      <td>0.006636</td>\n",
       "    </tr>\n",
       "    <tr>\n",
       "      <th>10</th>\n",
       "      <td>-0.326742</td>\n",
       "      <td>-0.199999</td>\n",
       "      <td>-0.325431</td>\n",
       "      <td>0.004267</td>\n",
       "      <td>-0.000750</td>\n",
       "      <td>0.019144</td>\n",
       "    </tr>\n",
       "    <tr>\n",
       "      <th>11</th>\n",
       "      <td>-0.343649</td>\n",
       "      <td>-0.087723</td>\n",
       "      <td>-0.394568</td>\n",
       "      <td>0.191085</td>\n",
       "      <td>-0.161279</td>\n",
       "      <td>0.173195</td>\n",
       "    </tr>\n",
       "    <tr>\n",
       "      <th>12</th>\n",
       "      <td>-0.304475</td>\n",
       "      <td>-0.105846</td>\n",
       "      <td>-0.487090</td>\n",
       "      <td>0.061517</td>\n",
       "      <td>-0.091246</td>\n",
       "      <td>0.122948</td>\n",
       "    </tr>\n",
       "    <tr>\n",
       "      <th>13</th>\n",
       "      <td>-0.477316</td>\n",
       "      <td>-0.199999</td>\n",
       "      <td>-0.544944</td>\n",
       "      <td>0.001938</td>\n",
       "      <td>-0.003342</td>\n",
       "      <td>-0.009200</td>\n",
       "    </tr>\n",
       "    <tr>\n",
       "      <th>14</th>\n",
       "      <td>-0.380491</td>\n",
       "      <td>-0.081043</td>\n",
       "      <td>-0.523025</td>\n",
       "      <td>-0.083594</td>\n",
       "      <td>-0.305760</td>\n",
       "      <td>0.091598</td>\n",
       "    </tr>\n",
       "    <tr>\n",
       "      <th>15</th>\n",
       "      <td>-0.469219</td>\n",
       "      <td>-0.199999</td>\n",
       "      <td>-0.305676</td>\n",
       "      <td>-0.008522</td>\n",
       "      <td>-0.001983</td>\n",
       "      <td>0.014914</td>\n",
       "    </tr>\n",
       "    <tr>\n",
       "      <th>16</th>\n",
       "      <td>-0.479805</td>\n",
       "      <td>-0.103231</td>\n",
       "      <td>-0.516612</td>\n",
       "      <td>-0.151356</td>\n",
       "      <td>-0.140508</td>\n",
       "      <td>0.036881</td>\n",
       "    </tr>\n",
       "    <tr>\n",
       "      <th>17</th>\n",
       "      <td>-0.253360</td>\n",
       "      <td>-0.199999</td>\n",
       "      <td>-0.350998</td>\n",
       "      <td>0.005884</td>\n",
       "      <td>-0.000771</td>\n",
       "      <td>0.018819</td>\n",
       "    </tr>\n",
       "    <tr>\n",
       "      <th>18</th>\n",
       "      <td>-0.385079</td>\n",
       "      <td>-0.097461</td>\n",
       "      <td>-0.307091</td>\n",
       "      <td>0.187994</td>\n",
       "      <td>-0.062165</td>\n",
       "      <td>0.178712</td>\n",
       "    </tr>\n",
       "    <tr>\n",
       "      <th>19</th>\n",
       "      <td>-0.507305</td>\n",
       "      <td>-0.089497</td>\n",
       "      <td>-0.415742</td>\n",
       "      <td>-0.074873</td>\n",
       "      <td>-0.288138</td>\n",
       "      <td>0.116927</td>\n",
       "    </tr>\n",
       "    <tr>\n",
       "      <th>20</th>\n",
       "      <td>-0.385660</td>\n",
       "      <td>-0.199999</td>\n",
       "      <td>-0.270634</td>\n",
       "      <td>0.017847</td>\n",
       "      <td>-0.001073</td>\n",
       "      <td>0.022078</td>\n",
       "    </tr>\n",
       "    <tr>\n",
       "      <th>21</th>\n",
       "      <td>-0.469219</td>\n",
       "      <td>-0.199999</td>\n",
       "      <td>-0.305676</td>\n",
       "      <td>-0.008522</td>\n",
       "      <td>-0.001983</td>\n",
       "      <td>0.014914</td>\n",
       "    </tr>\n",
       "    <tr>\n",
       "      <th>22</th>\n",
       "      <td>-0.469219</td>\n",
       "      <td>-0.199999</td>\n",
       "      <td>-0.305676</td>\n",
       "      <td>-0.008522</td>\n",
       "      <td>-0.001983</td>\n",
       "      <td>0.014914</td>\n",
       "    </tr>\n",
       "    <tr>\n",
       "      <th>23</th>\n",
       "      <td>-0.454045</td>\n",
       "      <td>-0.199999</td>\n",
       "      <td>-0.230909</td>\n",
       "      <td>0.014716</td>\n",
       "      <td>-0.000905</td>\n",
       "      <td>0.005012</td>\n",
       "    </tr>\n",
       "    <tr>\n",
       "      <th>24</th>\n",
       "      <td>-0.546141</td>\n",
       "      <td>-0.199999</td>\n",
       "      <td>-0.324093</td>\n",
       "      <td>-0.013917</td>\n",
       "      <td>-0.001184</td>\n",
       "      <td>-0.013588</td>\n",
       "    </tr>\n",
       "    <tr>\n",
       "      <th>25</th>\n",
       "      <td>-0.477194</td>\n",
       "      <td>-0.199999</td>\n",
       "      <td>-0.387064</td>\n",
       "      <td>0.015136</td>\n",
       "      <td>-0.003651</td>\n",
       "      <td>0.010424</td>\n",
       "    </tr>\n",
       "    <tr>\n",
       "      <th>26</th>\n",
       "      <td>-0.400343</td>\n",
       "      <td>-0.199999</td>\n",
       "      <td>-0.359755</td>\n",
       "      <td>0.006090</td>\n",
       "      <td>-0.001401</td>\n",
       "      <td>0.013634</td>\n",
       "    </tr>\n",
       "    <tr>\n",
       "      <th>27</th>\n",
       "      <td>-0.385660</td>\n",
       "      <td>-0.199999</td>\n",
       "      <td>-0.270634</td>\n",
       "      <td>0.017847</td>\n",
       "      <td>-0.001073</td>\n",
       "      <td>0.022078</td>\n",
       "    </tr>\n",
       "    <tr>\n",
       "      <th>28</th>\n",
       "      <td>-0.470559</td>\n",
       "      <td>-0.101423</td>\n",
       "      <td>-0.330718</td>\n",
       "      <td>0.089333</td>\n",
       "      <td>-0.109060</td>\n",
       "      <td>0.184788</td>\n",
       "    </tr>\n",
       "    <tr>\n",
       "      <th>29</th>\n",
       "      <td>-0.559383</td>\n",
       "      <td>-0.199999</td>\n",
       "      <td>-0.246124</td>\n",
       "      <td>0.029521</td>\n",
       "      <td>-0.001271</td>\n",
       "      <td>-0.010537</td>\n",
       "    </tr>\n",
       "    <tr>\n",
       "      <th>...</th>\n",
       "      <td>...</td>\n",
       "      <td>...</td>\n",
       "      <td>...</td>\n",
       "      <td>...</td>\n",
       "      <td>...</td>\n",
       "      <td>...</td>\n",
       "    </tr>\n",
       "    <tr>\n",
       "      <th>6049184</th>\n",
       "      <td>-0.629246</td>\n",
       "      <td>-0.199999</td>\n",
       "      <td>0.431300</td>\n",
       "      <td>0.003375</td>\n",
       "      <td>0.001155</td>\n",
       "      <td>0.021850</td>\n",
       "    </tr>\n",
       "    <tr>\n",
       "      <th>6049185</th>\n",
       "      <td>-0.461299</td>\n",
       "      <td>-0.199999</td>\n",
       "      <td>0.267143</td>\n",
       "      <td>-0.001268</td>\n",
       "      <td>0.000750</td>\n",
       "      <td>0.011395</td>\n",
       "    </tr>\n",
       "    <tr>\n",
       "      <th>6049186</th>\n",
       "      <td>-0.699999</td>\n",
       "      <td>-0.107202</td>\n",
       "      <td>0.154910</td>\n",
       "      <td>0.000273</td>\n",
       "      <td>-0.000707</td>\n",
       "      <td>-0.005432</td>\n",
       "    </tr>\n",
       "    <tr>\n",
       "      <th>6049187</th>\n",
       "      <td>-0.699999</td>\n",
       "      <td>-0.114623</td>\n",
       "      <td>0.529404</td>\n",
       "      <td>0.000433</td>\n",
       "      <td>0.004879</td>\n",
       "      <td>-0.000469</td>\n",
       "    </tr>\n",
       "    <tr>\n",
       "      <th>6049188</th>\n",
       "      <td>-0.699999</td>\n",
       "      <td>-0.114623</td>\n",
       "      <td>0.529404</td>\n",
       "      <td>0.000433</td>\n",
       "      <td>0.004879</td>\n",
       "      <td>-0.000469</td>\n",
       "    </tr>\n",
       "    <tr>\n",
       "      <th>6049189</th>\n",
       "      <td>-0.617123</td>\n",
       "      <td>-0.108228</td>\n",
       "      <td>0.554370</td>\n",
       "      <td>0.012408</td>\n",
       "      <td>0.017696</td>\n",
       "      <td>-0.010581</td>\n",
       "    </tr>\n",
       "    <tr>\n",
       "      <th>6049190</th>\n",
       "      <td>-0.699999</td>\n",
       "      <td>-0.199999</td>\n",
       "      <td>0.552436</td>\n",
       "      <td>0.000171</td>\n",
       "      <td>0.000219</td>\n",
       "      <td>0.002903</td>\n",
       "    </tr>\n",
       "    <tr>\n",
       "      <th>6049191</th>\n",
       "      <td>-0.699999</td>\n",
       "      <td>-0.040783</td>\n",
       "      <td>0.477485</td>\n",
       "      <td>0.000140</td>\n",
       "      <td>0.015206</td>\n",
       "      <td>0.005005</td>\n",
       "    </tr>\n",
       "    <tr>\n",
       "      <th>6049192</th>\n",
       "      <td>-0.699999</td>\n",
       "      <td>-0.031371</td>\n",
       "      <td>0.573594</td>\n",
       "      <td>0.000844</td>\n",
       "      <td>0.015420</td>\n",
       "      <td>-0.004776</td>\n",
       "    </tr>\n",
       "    <tr>\n",
       "      <th>6049193</th>\n",
       "      <td>-0.699999</td>\n",
       "      <td>-0.109422</td>\n",
       "      <td>0.628991</td>\n",
       "      <td>-0.000062</td>\n",
       "      <td>0.006402</td>\n",
       "      <td>-0.007917</td>\n",
       "    </tr>\n",
       "    <tr>\n",
       "      <th>6049194</th>\n",
       "      <td>-0.699999</td>\n",
       "      <td>-0.199999</td>\n",
       "      <td>0.473468</td>\n",
       "      <td>0.000153</td>\n",
       "      <td>0.000338</td>\n",
       "      <td>0.002867</td>\n",
       "    </tr>\n",
       "    <tr>\n",
       "      <th>6049195</th>\n",
       "      <td>-0.699999</td>\n",
       "      <td>-0.109840</td>\n",
       "      <td>0.423035</td>\n",
       "      <td>0.000069</td>\n",
       "      <td>0.007703</td>\n",
       "      <td>-0.005501</td>\n",
       "    </tr>\n",
       "    <tr>\n",
       "      <th>6049196</th>\n",
       "      <td>-0.613275</td>\n",
       "      <td>-0.106387</td>\n",
       "      <td>0.458260</td>\n",
       "      <td>-0.008217</td>\n",
       "      <td>0.041013</td>\n",
       "      <td>-0.001208</td>\n",
       "    </tr>\n",
       "    <tr>\n",
       "      <th>6049197</th>\n",
       "      <td>-0.624729</td>\n",
       "      <td>-0.199999</td>\n",
       "      <td>0.515842</td>\n",
       "      <td>0.001540</td>\n",
       "      <td>0.001007</td>\n",
       "      <td>0.010642</td>\n",
       "    </tr>\n",
       "    <tr>\n",
       "      <th>6049198</th>\n",
       "      <td>-0.699999</td>\n",
       "      <td>-0.199999</td>\n",
       "      <td>0.627657</td>\n",
       "      <td>0.000165</td>\n",
       "      <td>0.000202</td>\n",
       "      <td>0.000868</td>\n",
       "    </tr>\n",
       "    <tr>\n",
       "      <th>6049199</th>\n",
       "      <td>-0.613436</td>\n",
       "      <td>-0.018471</td>\n",
       "      <td>0.471992</td>\n",
       "      <td>0.003683</td>\n",
       "      <td>0.071075</td>\n",
       "      <td>-0.047946</td>\n",
       "    </tr>\n",
       "    <tr>\n",
       "      <th>6049200</th>\n",
       "      <td>-0.613061</td>\n",
       "      <td>-0.038310</td>\n",
       "      <td>0.612329</td>\n",
       "      <td>0.009366</td>\n",
       "      <td>0.023327</td>\n",
       "      <td>-0.011142</td>\n",
       "    </tr>\n",
       "    <tr>\n",
       "      <th>6049201</th>\n",
       "      <td>-0.620873</td>\n",
       "      <td>-0.199999</td>\n",
       "      <td>0.620078</td>\n",
       "      <td>0.004104</td>\n",
       "      <td>0.000373</td>\n",
       "      <td>-0.000440</td>\n",
       "    </tr>\n",
       "    <tr>\n",
       "      <th>6049202</th>\n",
       "      <td>-0.629246</td>\n",
       "      <td>-0.199999</td>\n",
       "      <td>0.431300</td>\n",
       "      <td>0.003375</td>\n",
       "      <td>0.001155</td>\n",
       "      <td>0.021850</td>\n",
       "    </tr>\n",
       "    <tr>\n",
       "      <th>6049203</th>\n",
       "      <td>-0.699999</td>\n",
       "      <td>0.044505</td>\n",
       "      <td>0.528278</td>\n",
       "      <td>0.000610</td>\n",
       "      <td>0.013416</td>\n",
       "      <td>0.005349</td>\n",
       "    </tr>\n",
       "    <tr>\n",
       "      <th>6049204</th>\n",
       "      <td>-0.699999</td>\n",
       "      <td>-0.199999</td>\n",
       "      <td>0.392092</td>\n",
       "      <td>-0.000017</td>\n",
       "      <td>0.000268</td>\n",
       "      <td>0.005901</td>\n",
       "    </tr>\n",
       "    <tr>\n",
       "      <th>6049205</th>\n",
       "      <td>-0.562207</td>\n",
       "      <td>-0.199999</td>\n",
       "      <td>0.565291</td>\n",
       "      <td>0.006734</td>\n",
       "      <td>0.000556</td>\n",
       "      <td>0.000762</td>\n",
       "    </tr>\n",
       "    <tr>\n",
       "      <th>6049206</th>\n",
       "      <td>-0.549666</td>\n",
       "      <td>-0.109289</td>\n",
       "      <td>0.612361</td>\n",
       "      <td>0.017686</td>\n",
       "      <td>0.017225</td>\n",
       "      <td>-0.000817</td>\n",
       "    </tr>\n",
       "    <tr>\n",
       "      <th>6049207</th>\n",
       "      <td>-0.699999</td>\n",
       "      <td>0.028081</td>\n",
       "      <td>0.425690</td>\n",
       "      <td>-0.000026</td>\n",
       "      <td>0.013047</td>\n",
       "      <td>-0.006758</td>\n",
       "    </tr>\n",
       "    <tr>\n",
       "      <th>6049208</th>\n",
       "      <td>-0.550324</td>\n",
       "      <td>-0.199999</td>\n",
       "      <td>-0.699999</td>\n",
       "      <td>-0.004793</td>\n",
       "      <td>0.000349</td>\n",
       "      <td>0.000181</td>\n",
       "    </tr>\n",
       "    <tr>\n",
       "      <th>6049209</th>\n",
       "      <td>-0.550324</td>\n",
       "      <td>-0.199999</td>\n",
       "      <td>-0.699999</td>\n",
       "      <td>-0.004793</td>\n",
       "      <td>0.000349</td>\n",
       "      <td>0.000181</td>\n",
       "    </tr>\n",
       "    <tr>\n",
       "      <th>6049210</th>\n",
       "      <td>-0.505805</td>\n",
       "      <td>-0.199999</td>\n",
       "      <td>-0.639088</td>\n",
       "      <td>-0.005312</td>\n",
       "      <td>0.000169</td>\n",
       "      <td>-0.001007</td>\n",
       "    </tr>\n",
       "    <tr>\n",
       "      <th>6049211</th>\n",
       "      <td>-0.627505</td>\n",
       "      <td>-0.199999</td>\n",
       "      <td>-0.699999</td>\n",
       "      <td>0.000668</td>\n",
       "      <td>-0.000044</td>\n",
       "      <td>0.000491</td>\n",
       "    </tr>\n",
       "    <tr>\n",
       "      <th>6049212</th>\n",
       "      <td>-0.540701</td>\n",
       "      <td>-0.114806</td>\n",
       "      <td>-0.699999</td>\n",
       "      <td>-0.000537</td>\n",
       "      <td>0.009069</td>\n",
       "      <td>0.000097</td>\n",
       "    </tr>\n",
       "    <tr>\n",
       "      <th>6049213</th>\n",
       "      <td>-0.459322</td>\n",
       "      <td>-0.199999</td>\n",
       "      <td>-0.699999</td>\n",
       "      <td>-0.002487</td>\n",
       "      <td>0.000250</td>\n",
       "      <td>-0.000135</td>\n",
       "    </tr>\n",
       "  </tbody>\n",
       "</table>\n",
       "<p>6049214 rows × 6 columns</p>\n",
       "</div>"
      ],
      "text/plain": [
       "               px        py        pz        vx        vy        vz\n",
       "0       -0.385610 -0.199999 -0.436949  0.016743 -0.001583 -0.001482\n",
       "1       -0.385610 -0.199999 -0.436949  0.016743 -0.001583 -0.001482\n",
       "2       -0.406119 -0.199999 -0.508544 -0.006339 -0.002872 -0.002721\n",
       "3       -0.312846 -0.199999 -0.408374  0.010014 -0.001903  0.018453\n",
       "4       -0.400343 -0.199999 -0.359755  0.006090 -0.001401  0.013634\n",
       "5       -0.479735 -0.199999 -0.462989 -0.002521 -0.003152  0.005353\n",
       "6       -0.416527 -0.103549 -0.435104  0.051659 -0.082099  0.132785\n",
       "7       -0.477194 -0.199999 -0.387064  0.015136 -0.003651  0.010424\n",
       "8       -0.339989 -0.199999 -0.538267 -0.005154 -0.002768 -0.001313\n",
       "9       -0.281197 -0.199999 -0.475507  0.002919 -0.002250  0.006636\n",
       "10      -0.326742 -0.199999 -0.325431  0.004267 -0.000750  0.019144\n",
       "11      -0.343649 -0.087723 -0.394568  0.191085 -0.161279  0.173195\n",
       "12      -0.304475 -0.105846 -0.487090  0.061517 -0.091246  0.122948\n",
       "13      -0.477316 -0.199999 -0.544944  0.001938 -0.003342 -0.009200\n",
       "14      -0.380491 -0.081043 -0.523025 -0.083594 -0.305760  0.091598\n",
       "15      -0.469219 -0.199999 -0.305676 -0.008522 -0.001983  0.014914\n",
       "16      -0.479805 -0.103231 -0.516612 -0.151356 -0.140508  0.036881\n",
       "17      -0.253360 -0.199999 -0.350998  0.005884 -0.000771  0.018819\n",
       "18      -0.385079 -0.097461 -0.307091  0.187994 -0.062165  0.178712\n",
       "19      -0.507305 -0.089497 -0.415742 -0.074873 -0.288138  0.116927\n",
       "20      -0.385660 -0.199999 -0.270634  0.017847 -0.001073  0.022078\n",
       "21      -0.469219 -0.199999 -0.305676 -0.008522 -0.001983  0.014914\n",
       "22      -0.469219 -0.199999 -0.305676 -0.008522 -0.001983  0.014914\n",
       "23      -0.454045 -0.199999 -0.230909  0.014716 -0.000905  0.005012\n",
       "24      -0.546141 -0.199999 -0.324093 -0.013917 -0.001184 -0.013588\n",
       "25      -0.477194 -0.199999 -0.387064  0.015136 -0.003651  0.010424\n",
       "26      -0.400343 -0.199999 -0.359755  0.006090 -0.001401  0.013634\n",
       "27      -0.385660 -0.199999 -0.270634  0.017847 -0.001073  0.022078\n",
       "28      -0.470559 -0.101423 -0.330718  0.089333 -0.109060  0.184788\n",
       "29      -0.559383 -0.199999 -0.246124  0.029521 -0.001271 -0.010537\n",
       "...           ...       ...       ...       ...       ...       ...\n",
       "6049184 -0.629246 -0.199999  0.431300  0.003375  0.001155  0.021850\n",
       "6049185 -0.461299 -0.199999  0.267143 -0.001268  0.000750  0.011395\n",
       "6049186 -0.699999 -0.107202  0.154910  0.000273 -0.000707 -0.005432\n",
       "6049187 -0.699999 -0.114623  0.529404  0.000433  0.004879 -0.000469\n",
       "6049188 -0.699999 -0.114623  0.529404  0.000433  0.004879 -0.000469\n",
       "6049189 -0.617123 -0.108228  0.554370  0.012408  0.017696 -0.010581\n",
       "6049190 -0.699999 -0.199999  0.552436  0.000171  0.000219  0.002903\n",
       "6049191 -0.699999 -0.040783  0.477485  0.000140  0.015206  0.005005\n",
       "6049192 -0.699999 -0.031371  0.573594  0.000844  0.015420 -0.004776\n",
       "6049193 -0.699999 -0.109422  0.628991 -0.000062  0.006402 -0.007917\n",
       "6049194 -0.699999 -0.199999  0.473468  0.000153  0.000338  0.002867\n",
       "6049195 -0.699999 -0.109840  0.423035  0.000069  0.007703 -0.005501\n",
       "6049196 -0.613275 -0.106387  0.458260 -0.008217  0.041013 -0.001208\n",
       "6049197 -0.624729 -0.199999  0.515842  0.001540  0.001007  0.010642\n",
       "6049198 -0.699999 -0.199999  0.627657  0.000165  0.000202  0.000868\n",
       "6049199 -0.613436 -0.018471  0.471992  0.003683  0.071075 -0.047946\n",
       "6049200 -0.613061 -0.038310  0.612329  0.009366  0.023327 -0.011142\n",
       "6049201 -0.620873 -0.199999  0.620078  0.004104  0.000373 -0.000440\n",
       "6049202 -0.629246 -0.199999  0.431300  0.003375  0.001155  0.021850\n",
       "6049203 -0.699999  0.044505  0.528278  0.000610  0.013416  0.005349\n",
       "6049204 -0.699999 -0.199999  0.392092 -0.000017  0.000268  0.005901\n",
       "6049205 -0.562207 -0.199999  0.565291  0.006734  0.000556  0.000762\n",
       "6049206 -0.549666 -0.109289  0.612361  0.017686  0.017225 -0.000817\n",
       "6049207 -0.699999  0.028081  0.425690 -0.000026  0.013047 -0.006758\n",
       "6049208 -0.550324 -0.199999 -0.699999 -0.004793  0.000349  0.000181\n",
       "6049209 -0.550324 -0.199999 -0.699999 -0.004793  0.000349  0.000181\n",
       "6049210 -0.505805 -0.199999 -0.639088 -0.005312  0.000169 -0.001007\n",
       "6049211 -0.627505 -0.199999 -0.699999  0.000668 -0.000044  0.000491\n",
       "6049212 -0.540701 -0.114806 -0.699999 -0.000537  0.009069  0.000097\n",
       "6049213 -0.459322 -0.199999 -0.699999 -0.002487  0.000250 -0.000135\n",
       "\n",
       "[6049214 rows x 6 columns]"
      ]
     },
     "execution_count": 5,
     "metadata": {},
     "output_type": "execute_result"
    }
   ],
   "source": [
    "df"
   ]
  },
  {
   "cell_type": "code",
   "execution_count": 19,
   "metadata": {
    "collapsed": false
   },
   "outputs": [
    {
     "name": "stdout",
     "output_type": "stream",
     "text": [
      "-0.199999\n"
     ]
    }
   ],
   "source": [
    "for r in df.iterrows():\n",
    "    print(r[1]['py'])\n",
    "    break"
   ]
  },
  {
   "cell_type": "code",
   "execution_count": 12,
   "metadata": {
    "collapsed": false
   },
   "outputs": [],
   "source": [
    "step = []"
   ]
  },
  {
   "cell_type": "code",
   "execution_count": 20,
   "metadata": {
    "collapsed": true
   },
   "outputs": [],
   "source": [
    "for r in df.iterrows():\n",
    "    t = r[1]\n",
    "    if t['px'] == -1 and t['py'] == -1:\n",
    "        break\n",
    "    step.append([t['px'], t['py'], t['pz'], t['vx'], t['vy'], t['vz']])"
   ]
  },
  {
   "cell_type": "code",
   "execution_count": 21,
   "metadata": {
    "collapsed": true
   },
   "outputs": [],
   "source": [
    "step = np.array(step)"
   ]
  },
  {
   "cell_type": "code",
   "execution_count": 23,
   "metadata": {
    "collapsed": false
   },
   "outputs": [
    {
     "data": {
      "text/plain": [
       "(30240, 6)"
      ]
     },
     "execution_count": 23,
     "metadata": {},
     "output_type": "execute_result"
    }
   ],
   "source": [
    "step.shape"
   ]
  },
  {
   "cell_type": "code",
   "execution_count": 24,
   "metadata": {
    "collapsed": false
   },
   "outputs": [
    {
     "data": {
      "text/plain": [
       "1440.0"
      ]
     },
     "execution_count": 24,
     "metadata": {},
     "output_type": "execute_result"
    }
   ],
   "source": [
    "30240/21"
   ]
  },
  {
   "cell_type": "code",
   "execution_count": 27,
   "metadata": {
    "collapsed": false
   },
   "outputs": [],
   "source": [
    "all_step = []"
   ]
  },
  {
   "cell_type": "code",
   "execution_count": 28,
   "metadata": {
    "collapsed": true
   },
   "outputs": [],
   "source": [
    "time_step = []\n",
    "for r in df.iterrows():\n",
    "    t = r[1]\n",
    "    if t['px'] == -1 and t['py'] == -1:\n",
    "        all_step.append(np.array(time_step))\n",
    "        time_step = []\n",
    "    time_step.append([t['px'], t['py'], t['pz'], t['vx'], t['vy'], t['vz']])"
   ]
  },
  {
   "cell_type": "code",
   "execution_count": 40,
   "metadata": {
    "collapsed": true
   },
   "outputs": [],
   "source": [
    "all_step = np.array(all_step[1:])"
   ]
  },
  {
   "cell_type": "code",
   "execution_count": 47,
   "metadata": {
    "collapsed": false
   },
   "outputs": [],
   "source": [
    "all_step2 = []"
   ]
  },
  {
   "cell_type": "code",
   "execution_count": 49,
   "metadata": {
    "collapsed": false
   },
   "outputs": [],
   "source": [
    "for r in all_step:\n",
    "    if r.shape[0] != 30241:\n",
    "        print(r.shape)\n",
    "    all_step2.append(r)"
   ]
  },
  {
   "cell_type": "code",
   "execution_count": 48,
   "metadata": {
    "collapsed": false
   },
   "outputs": [
    {
     "data": {
      "text/plain": [
       "(30241, 6)"
      ]
     },
     "execution_count": 48,
     "metadata": {},
     "output_type": "execute_result"
    }
   ],
   "source": [
    "all_step[0].shape"
   ]
  },
  {
   "cell_type": "code",
   "execution_count": 53,
   "metadata": {
    "collapsed": false
   },
   "outputs": [
    {
     "data": {
      "text/plain": [
       "(199, 30241, 6)"
      ]
     },
     "execution_count": 53,
     "metadata": {},
     "output_type": "execute_result"
    }
   ],
   "source": [
    "all_step2.shape"
   ]
  },
  {
   "cell_type": "code",
   "execution_count": 54,
   "metadata": {
    "collapsed": false
   },
   "outputs": [],
   "source": [
    "temp = all_step2[:,1:,:]"
   ]
  },
  {
   "cell_type": "code",
   "execution_count": 55,
   "metadata": {
    "collapsed": false
   },
   "outputs": [
    {
     "data": {
      "text/plain": [
       "(199, 30240, 6)"
      ]
     },
     "execution_count": 55,
     "metadata": {},
     "output_type": "execute_result"
    }
   ],
   "source": [
    "temp.shape"
   ]
  },
  {
   "cell_type": "code",
   "execution_count": 56,
   "metadata": {
    "collapsed": true
   },
   "outputs": [],
   "source": [
    "np.save('cleaned_data', temp)"
   ]
  },
  {
   "cell_type": "code",
   "execution_count": 58,
   "metadata": {
    "collapsed": false
   },
   "outputs": [],
   "source": [
    "clean = temp"
   ]
  },
  {
   "cell_type": "code",
   "execution_count": 60,
   "metadata": {
    "collapsed": false
   },
   "outputs": [],
   "source": [
    "input_data = clean.copy()"
   ]
  },
  {
   "cell_type": "code",
   "execution_count": 62,
   "metadata": {
    "collapsed": true
   },
   "outputs": [],
   "source": [
    "tem = input_data.reshape([199, 1440, 21, 6])"
   ]
  },
  {
   "cell_type": "code",
   "execution_count": 61,
   "metadata": {
    "collapsed": false
   },
   "outputs": [
    {
     "data": {
      "text/plain": [
       "1440.0"
      ]
     },
     "execution_count": 61,
     "metadata": {},
     "output_type": "execute_result"
    }
   ],
   "source": [
    "30240/21"
   ]
  },
  {
   "cell_type": "code",
   "execution_count": 64,
   "metadata": {
    "collapsed": false
   },
   "outputs": [
    {
     "data": {
      "text/plain": [
       "array([-0.298382  ,  0.00063797, -0.298382  ,  0.155282  ,  0.0572816 ,\n",
       "        0.155282  ])"
      ]
     },
     "execution_count": 64,
     "metadata": {},
     "output_type": "execute_result"
    }
   ],
   "source": [
    "tem[0,0,0]"
   ]
  },
  {
   "cell_type": "code",
   "execution_count": 65,
   "metadata": {
    "collapsed": false
   },
   "outputs": [
    {
     "data": {
      "text/plain": [
       "array([-0.298382  ,  0.00063797, -0.298382  ,  0.155282  ,  0.0572816 ,\n",
       "        0.155282  ])"
      ]
     },
     "execution_count": 65,
     "metadata": {},
     "output_type": "execute_result"
    }
   ],
   "source": [
    "all_step2[0,1]"
   ]
  },
  {
   "cell_type": "code",
   "execution_count": 67,
   "metadata": {
    "collapsed": false
   },
   "outputs": [
    {
     "data": {
      "text/plain": [
       "(199, 1440, 21, 6)"
      ]
     },
     "execution_count": 67,
     "metadata": {},
     "output_type": "execute_result"
    }
   ],
   "source": [
    "tem.shape"
   ]
  },
  {
   "cell_type": "code",
   "execution_count": 74,
   "metadata": {
    "collapsed": true
   },
   "outputs": [],
   "source": [
    "tem2 = tem[:, :, 1:, :]"
   ]
  },
  {
   "cell_type": "code",
   "execution_count": 75,
   "metadata": {
    "collapsed": true
   },
   "outputs": [],
   "source": [
    "tem2 = tem2.reshape([199, 1440, -1])"
   ]
  },
  {
   "cell_type": "code",
   "execution_count": 76,
   "metadata": {
    "collapsed": false
   },
   "outputs": [
    {
     "data": {
      "text/plain": [
       "(199, 1440, 120)"
      ]
     },
     "execution_count": 76,
     "metadata": {},
     "output_type": "execute_result"
    }
   ],
   "source": [
    "tem2.shape"
   ]
  },
  {
   "cell_type": "code",
   "execution_count": 77,
   "metadata": {
    "collapsed": true
   },
   "outputs": [],
   "source": [
    "tem3 = tem2[:-1, :, :]"
   ]
  },
  {
   "cell_type": "code",
   "execution_count": 78,
   "metadata": {
    "collapsed": false
   },
   "outputs": [
    {
     "data": {
      "text/plain": [
       "(198, 1440, 120)"
      ]
     },
     "execution_count": 78,
     "metadata": {},
     "output_type": "execute_result"
    }
   ],
   "source": [
    "tem3.shape"
   ]
  },
  {
   "cell_type": "code",
   "execution_count": 79,
   "metadata": {
    "collapsed": true
   },
   "outputs": [],
   "source": [
    "np.save('input_data', tem3)"
   ]
  },
  {
   "cell_type": "code",
   "execution_count": 80,
   "metadata": {
    "collapsed": true
   },
   "outputs": [],
   "source": [
    "tem4 = tem2[1:,:,:6]"
   ]
  },
  {
   "cell_type": "code",
   "execution_count": 81,
   "metadata": {
    "collapsed": false
   },
   "outputs": [
    {
     "data": {
      "text/plain": [
       "(198, 1440, 6)"
      ]
     },
     "execution_count": 81,
     "metadata": {},
     "output_type": "execute_result"
    }
   ],
   "source": [
    "tem4.shape"
   ]
  },
  {
   "cell_type": "code",
   "execution_count": 82,
   "metadata": {
    "collapsed": true
   },
   "outputs": [],
   "source": [
    "np.save('output_data', tem4)"
   ]
  },
  {
   "cell_type": "code",
   "execution_count": null,
   "metadata": {
    "collapsed": true
   },
   "outputs": [],
   "source": []
  }
 ],
 "metadata": {
  "kernelspec": {
   "display_name": "Python 3",
   "language": "python",
   "name": "python3"
  },
  "language_info": {
   "codemirror_mode": {
    "name": "ipython",
    "version": 3
   },
   "file_extension": ".py",
   "mimetype": "text/x-python",
   "name": "python",
   "nbconvert_exporter": "python",
   "pygments_lexer": "ipython3",
   "version": "3.4.4"
  }
 },
 "nbformat": 4,
 "nbformat_minor": 0
}
